{
 "cells": [
  {
   "cell_type": "code",
   "execution_count": null,
   "id": "79b5d0b6",
   "metadata": {},
   "outputs": [],
   "source": [
    "import pandas as pd\n",
    "import matplotlib.pyplot as plt\n",
    "import seaborn as sns\n",
    "\n",
    "import sys\n",
    "sys.path.append('../scripts') # adjust the path based on actual location\n",
    "from quantitative_analysis import StockAnalyzer\n"
   ]
  },
  {
   "cell_type": "code",
   "execution_count": null,
   "id": "344602e1",
   "metadata": {},
   "outputs": [],
   "source": [
    "# Load your CSV\n",
    "\n",
    "msf_price_data = pd.read_csv('../src/data/yfinance_data/MSFT_historical_data.csv')\n",
    "# Create analyzer object\n",
    "\n",
    "msf_analyzer = StockAnalyzer(msf_price_data)\n",
    "# Prepare data\n",
    "msf_analyzer .prepare_data()\n"
   ]
  },
  {
   "cell_type": "code",
   "execution_count": null,
   "id": "e55078ec",
   "metadata": {},
   "outputs": [],
   "source": [
    "msf_analyzer.add_technical_indicators()"
   ]
  },
  {
   "cell_type": "code",
   "execution_count": null,
   "id": "2040b294",
   "metadata": {},
   "outputs": [],
   "source": [
    "msf_analyzer.plot_indicators()"
   ]
  },
  {
   "cell_type": "code",
   "execution_count": null,
   "id": "3ff12129",
   "metadata": {},
   "outputs": [],
   "source": [
    "msf_analyzer.plot_candlestick(\n",
    "   \n",
    ")"
   ]
  },
  {
   "cell_type": "code",
   "execution_count": null,
   "id": "7a23430d",
   "metadata": {},
   "outputs": [],
   "source": [
    "msf_analyzer.plot_volume()"
   ]
  }
 ],
 "metadata": {
  "language_info": {
   "name": "python"
  }
 },
 "nbformat": 4,
 "nbformat_minor": 5
}
