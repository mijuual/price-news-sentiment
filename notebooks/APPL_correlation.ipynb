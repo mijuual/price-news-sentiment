{
 "cells": [
  {
   "cell_type": "code",
   "execution_count": null,
   "id": "72721c5b",
   "metadata": {},
   "outputs": [],
   "source": [
    "import pandas as pd\n",
    "import matplotlib.pyplot as plt\n",
    "import seaborn as sns\n",
    "\n",
    "import sys\n",
    "sys.path.append('../scripts') # adjust the path based on actual location\n",
    "from quantitative_analysis import StockAnalyzer\n"
   ]
  },
  {
   "cell_type": "code",
   "execution_count": null,
   "id": "0ca7ac48",
   "metadata": {},
   "outputs": [],
   "source": [
    "# Load your CSV\n",
    "\n",
    "apple_price_data = pd.read_csv('../src/data/yfinance_data/AAPL_historical_data.csv')\n",
    "# Create analyzer object\n",
    "\n",
    "appl_analyzer = StockAnalyzer(apple_price_data )\n",
    "# Prepare data\n",
    "appl_analyzer.prepare_data()\n"
   ]
  },
  {
   "cell_type": "code",
   "execution_count": null,
   "id": "f1e42705",
   "metadata": {},
   "outputs": [],
   "source": [
    "appl_analyzer.add_technical_indicators()"
   ]
  },
  {
   "cell_type": "code",
   "execution_count": null,
   "id": "ee7e4aaf",
   "metadata": {},
   "outputs": [],
   "source": [
    "appl_analyzer.plot_indicators(save_path=\"../images/quantitative/apple/rsi_14_plot.png\")\n"
   ]
  },
  {
   "cell_type": "code",
   "execution_count": null,
   "id": "f44cd503",
   "metadata": {},
   "outputs": [],
   "source": [
    "appl_analyzer.plot_candlestick(\n",
    "    save_path=\"../images/quantitative/apple/apple_stock_price_sma50.png\"\n",
    ")\n"
   ]
  },
  {
   "cell_type": "code",
   "execution_count": null,
   "id": "b4bc6a61",
   "metadata": {},
   "outputs": [],
   "source": [
    "appl_analyzer.plot_volume(save_path=\"../images/quantitative/apple/apple_volume.png\")\n",
    "\n"
   ]
  },
  {
   "cell_type": "markdown",
   "id": "db20a0b0",
   "metadata": {},
   "source": [
    "Correlation analysis "
   ]
  },
  {
   "cell_type": "code",
   "execution_count": null,
   "id": "e325ceb3",
   "metadata": {},
   "outputs": [],
   "source": [
    "# Load sentiment CSV\n",
    "sentiment_df = pd.read_csv(\"../src/sentiment_with_polarity.csv\")\n",
    "\n",
    "# Filter for a specific ticker\n",
    "sentiment_df = sentiment_df[sentiment_df['stock'] == 'AAPL']\n",
    "\n",
    "print(f\"✅ Sentiment data cleaned. Rows remaining: {len(sentiment_df)}\")\n"
   ]
  },
  {
   "cell_type": "code",
   "execution_count": null,
   "id": "701ac5e8",
   "metadata": {},
   "outputs": [],
   "source": [
    "# Get stock price DataFrame from your StockAnalyzer\n",
    "stock_df = appl_analyzer.df.copy()\n",
    "\n",
    "# If 'Date' is a column\n",
    "if 'Date' in stock_df.columns:\n",
    "    print(\"📌 'Date' column dtype:\", stock_df['Date'].dtype)\n",
    "else:\n",
    "    print(\"🕓 'Date' is not a column. Checking index...\")\n",
    "    print(\"📌 Index dtype:\", stock_df.index.dtype)\n",
    "\n",
    "# Check if all datetime values have time set to midnight\n",
    "all_normalized = (stock_df.index.time == pd.to_datetime(\"00:00:00\").time())\n",
    "\n",
    "if all_normalized.all():\n",
    "    print(\"✅ All dates are normalized (00:00:00).\")\n",
    "else:\n",
    "    print(\"⚠️ Some dates are not normalized. Example non-normalized rows:\")\n",
    "    print(stock_df[~all_normalized].head())\n",
    "\n"
   ]
  },
  {
   "cell_type": "code",
   "execution_count": null,
   "id": "c286848a",
   "metadata": {},
   "outputs": [
    {
     "ename": "AttributeError",
     "evalue": "'DataFrame' object has no attribute 'df'",
     "output_type": "error",
     "traceback": [
      "\u001b[31m---------------------------------------------------------------------------\u001b[39m",
      "\u001b[31mAttributeError\u001b[39m                            Traceback (most recent call last)",
      "\u001b[32m~\\AppData\\Local\\Temp\\ipykernel_30712\\3155121541.py\u001b[39m in \u001b[36m?\u001b[39m\u001b[34m()\u001b[39m\n\u001b[32m      1\u001b[39m \u001b[38;5;66;03m# Filter for AAPL sentiment only (or other ticker)\u001b[39;00m\n\u001b[32m----> \u001b[39m\u001b[32m2\u001b[39m sentiment_aapl =sentiment_df.df.copy()\n\u001b[32m      3\u001b[39m sentiment_aapl = sentiment_aapl[sentiment_aapl[\u001b[33m'stock'\u001b[39m] == \u001b[33m'AAPL'\u001b[39m]\n\u001b[32m      4\u001b[39m \n\u001b[32m      5\u001b[39m \u001b[38;5;66;03m# 2. Group by date to get average sentiment polarity\u001b[39;00m\n",
      "\u001b[32mc:\\Users\\mijuu\\Documents\\price-news-sentiment\\.venv\\Lib\\site-packages\\pandas\\core\\generic.py\u001b[39m in \u001b[36m?\u001b[39m\u001b[34m(self, name)\u001b[39m\n\u001b[32m   6295\u001b[39m             \u001b[38;5;28;01mand\u001b[39;00m name \u001b[38;5;28;01mnot\u001b[39;00m \u001b[38;5;28;01min\u001b[39;00m self._accessors\n\u001b[32m   6296\u001b[39m             \u001b[38;5;28;01mand\u001b[39;00m self._info_axis._can_hold_identifiers_and_holds_name(name)\n\u001b[32m   6297\u001b[39m         ):\n\u001b[32m   6298\u001b[39m             \u001b[38;5;28;01mreturn\u001b[39;00m self[name]\n\u001b[32m-> \u001b[39m\u001b[32m6299\u001b[39m         \u001b[38;5;28;01mreturn\u001b[39;00m object.__getattribute__(self, name)\n",
      "\u001b[31mAttributeError\u001b[39m: 'DataFrame' object has no attribute 'df'"
     ]
    }
   ],
   "source": [
    "# Filter for AAPL sentiment only (or other ticker)\n",
    "sentiment_aapl =sentiment_df.df.copy()\n",
    "sentiment_aapl = sentiment_aapl[sentiment_aapl['stock'] == 'AAPL']\n",
    "\n",
    "# 2. Group by date to get average sentiment polarity\n",
    "daily_sentiment = sentiment_aapl.groupby('date')['polarity'].mean().to_frame()\n",
    "\n",
    "# 3. Load stock price data (from your analyzer)\n",
    "stock_df = appl_analyzer.df.copy()\n",
    "\n",
    "# Ensure index is datetime and normalized (you already did this)\n",
    "stock_df.index = pd.to_datetime(stock_df.index)\n",
    "stock_df.index = stock_df.index.normalize()\n",
    "\n",
    "# 4. Calculate daily stock return\n",
    "stock_df['return'] = stock_df['Close'].pct_change() * 100\n",
    "daily_returns = stock_df[['return']]\n",
    "\n",
    "# 5. Merge sentiment and returns on date\n",
    "merged_df = pd.merge(daily_sentiment, daily_returns, left_index=True, right_index=True, how='inner')\n",
    "\n",
    "# 6. Calculate correlation\n",
    "correlation = merged_df['polarity'].corr(merged_df['return'])\n",
    "\n",
    "# 7. Display results\n",
    "print(f\"🧮 Merged rows: {len(merged_df)}\")\n",
    "print(\"\\n📄 Sample merged data:\\n\", merged_df.head())\n",
    "print(f\"\\n📊 Correlation between AAPL news sentiment and stock return: {correlation:.4f}\")"
   ]
  },
  {
   "cell_type": "code",
   "execution_count": null,
   "id": "7b95a0d8",
   "metadata": {},
   "outputs": [],
   "source": [
    "# Compute correlation matrix\n",
    "corr_matrix = merged_df.corr()\n",
    "\n",
    "# Plot heatmap\n",
    "plt.figure(figsize=(6, 4))\n",
    "sns.heatmap(corr_matrix, annot=True, cmap=\"coolwarm\", fmt=\".2f\")\n",
    "plt.title(\"Correlation Heatmap: Sentiment vs Return\")\n",
    "plt.tight_layout()\n",
    "plt.show()"
   ]
  }
 ],
 "metadata": {
  "kernelspec": {
   "display_name": ".venv",
   "language": "python",
   "name": "python3"
  },
  "language_info": {
   "codemirror_mode": {
    "name": "ipython",
    "version": 3
   },
   "file_extension": ".py",
   "mimetype": "text/x-python",
   "name": "python",
   "nbconvert_exporter": "python",
   "pygments_lexer": "ipython3",
   "version": "3.12.3"
  }
 },
 "nbformat": 4,
 "nbformat_minor": 5
}
