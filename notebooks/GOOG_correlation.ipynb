{
 "cells": [
  {
   "cell_type": "code",
   "execution_count": null,
   "id": "35054de7",
   "metadata": {},
   "outputs": [],
   "source": [
    "import pandas as pd\n",
    "import matplotlib.pyplot as plt\n",
    "import seaborn as sns\n",
    "\n",
    "import sys\n",
    "sys.path.append('../scripts') # adjust the path based on actual location\n",
    "from quantitative_analysis import StockAnalyzer\n"
   ]
  },
  {
   "cell_type": "code",
   "execution_count": null,
   "id": "0d2b08ef",
   "metadata": {},
   "outputs": [],
   "source": [
    "# Load your CSV\n",
    "\n",
    "apple_price_data = pd.read_csv('../src/data/yfinance_data/GOOG_historical_data.csv')\n",
    "# Create analyzer object\n",
    "\n",
    "appl_analyzer = StockAnalyzer(apple_price_data )\n",
    "# Prepare data\n",
    "appl_analyzer.prepare_data()\n"
   ]
  },
  {
   "cell_type": "code",
   "execution_count": 5,
   "id": "a0fb8397",
   "metadata": {},
   "outputs": [],
   "source": [
    "def fix_date_column(df, col='date'):\n",
    "    \"\"\"\n",
    "    Cleans and normalizes a date column with detailed logging.\n",
    "\n",
    "    Steps:\n",
    "    - Parses to datetime\n",
    "    - Drops invalid or missing dates\n",
    "    - Normalizes to date (removes time)\n",
    "    - Removes timezone (if present)\n",
    "    - Sets column as index\n",
    "\n",
    "    Args:\n",
    "        df (pd.DataFrame): DataFrame containing the date column\n",
    "        col (str): Name of the date column to clean\n",
    "\n",
    "    Returns:\n",
    "        pd.DataFrame: Cleaned DataFrame with datetime index\n",
    "    \"\"\"\n",
    "    df = df.copy()\n",
    "    original_rows = len(df)\n",
    "\n",
    "    # Step 1: Convert to datetime\n",
    "    df[col] = pd.to_datetime(df[col], errors='coerce')\n",
    "    after_parse_invalid = df[col].isna().sum()\n",
    "\n",
    "    # Step 2: Drop invalid dates\n",
    "    df = df.dropna(subset=[col])\n",
    "    after_drop_rows = len(df)\n",
    "\n",
    "    # Step 3: Normalize to remove time\n",
    "    df[col] = df[col].dt.normalize()\n",
    "\n",
    "    # Step 4: Remove timezone\n",
    "    if df[col].dt.tz is not None:\n",
    "        df[col] = df[col].dt.tz_localize(None)\n",
    "\n",
    "    # Step 5: Set index\n",
    "    df.set_index(col, inplace=True)\n",
    "\n",
    "    # Logging\n",
    "    print(f\"🧼 Cleaning '{col}' column:\")\n",
    "    print(f\"   - Original rows: {original_rows}\")\n",
    "    print(f\"   - Invalid dates parsed (NaT): {after_parse_invalid}\")\n",
    "    print(f\"   - Rows remaining after cleaning: {after_drop_rows}\")\n",
    "\n",
    "    return df\n"
   ]
  },
  {
   "cell_type": "code",
   "execution_count": 6,
   "id": "4dca7f14",
   "metadata": {},
   "outputs": [
    {
     "name": "stdout",
     "output_type": "stream",
     "text": [
      "✅ Sentiment data cleaned. Rows remaining: 1199\n",
      "🧼 Cleaning 'date' column:\n",
      "   - Original rows: 1199\n",
      "   - Invalid dates parsed (NaT): 1189\n",
      "   - Rows remaining after cleaning: 10\n",
      "✅ Sentiment data cleaned. Rows remaining: 10\n"
     ]
    }
   ],
   "source": [
    "# Load sentiment CSV\n",
    "sentiment_df = pd.read_csv(\"../src/sentiment_with_polarity.csv\")\n",
    "\n",
    "# Filter for a specific ticker\n",
    "sentiment_df = sentiment_df[sentiment_df['stock'] == 'GOOG']\n",
    "\n",
    "print(f\"✅ Sentiment data cleaned. Rows remaining: {len(sentiment_df)}\")\n",
    "\n",
    "# Clean the 'date' column\n",
    "sentiment_df = fix_date_column(sentiment_df, col='date')\n",
    "\n",
    "# Print number of valid rows remaining\n",
    "print(f\"✅ Sentiment data cleaned. Rows remaining: {len(sentiment_df)}\")\n",
    "\n",
    "# Group by date to get average sentiment per day\n",
    "daily_sentiment = sentiment_df.groupby(sentiment_df.index)['polarity'].mean().to_frame()"
   ]
  }
 ],
 "metadata": {
  "kernelspec": {
   "display_name": ".venv",
   "language": "python",
   "name": "python3"
  },
  "language_info": {
   "codemirror_mode": {
    "name": "ipython",
    "version": 3
   },
   "file_extension": ".py",
   "mimetype": "text/x-python",
   "name": "python",
   "nbconvert_exporter": "python",
   "pygments_lexer": "ipython3",
   "version": "3.12.3"
  }
 },
 "nbformat": 4,
 "nbformat_minor": 5
}
