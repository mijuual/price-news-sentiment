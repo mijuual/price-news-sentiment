{
 "cells": [
  {
   "cell_type": "code",
   "execution_count": 3,
   "id": "ab401bb7",
   "metadata": {},
   "outputs": [],
   "source": [
    "import pandas as pd\n",
    "import matplotlib.pyplot as plt\n",
    "from textblob import TextBlob\n",
    "import nltk\n",
    "import seaborn as sns\n",
    "import string\n",
    "from sklearn.feature_extraction.text import CountVectorizer\n",
    "from sklearn.decomposition import LatentDirichletAllocation\n"
   ]
  },
  {
   "cell_type": "code",
   "execution_count": 5,
   "id": "02c4cbeb",
   "metadata": {},
   "outputs": [
    {
     "name": "stdout",
     "output_type": "stream",
     "text": [
      "Column names Index(['Unnamed: 0', 'headline', 'url', 'publisher', 'date', 'stock'], dtype='object')\n",
      "Column names Index(['headline', 'url', 'publisher', 'date', 'stock'], dtype='object')\n"
     ]
    }
   ],
   "source": [
    "# Load your dataset \n",
    "df = pd.read_csv('../src/data/raw_analyst_ratings.csv') \n",
    "\n",
    "print(\"Column names\", df.columns)\n",
    "\n",
    "df = df.drop(columns=['Unnamed: 0'])\n",
    "\n",
    "print(\"Column names\", df.columns)"
   ]
  },
  {
   "cell_type": "markdown",
   "id": "7b2705d0",
   "metadata": {},
   "source": [
    "Basic data assessment"
   ]
  },
  {
   "cell_type": "code",
   "execution_count": null,
   "id": "ce843f27",
   "metadata": {},
   "outputs": [],
   "source": [
    "# 1. Basic overview\n",
    "print(\"Shape of the dataset:\", df.shape)\n",
    "\n",
    "print(\"\\nFirst 5 rows:\\n\", df.head())\n",
    "\n",
    "print(\"\\nLast 5 rows:\\n\", df.tail())\n"
   ]
  },
  {
   "cell_type": "code",
   "execution_count": null,
   "id": "a29e0f0c",
   "metadata": {},
   "outputs": [],
   "source": [
    "# 2. Data types and non-null counts\n",
    "print(\"\\nInfo about dataset:\")\n",
    "df.info()"
   ]
  },
  {
   "cell_type": "code",
   "execution_count": null,
   "id": "ad2b2bb4",
   "metadata": {},
   "outputs": [],
   "source": [
    "# 3. Summary statistics (numeric columns)\n",
    "print(\"\\nSummary statistics (numeric):\")\n",
    "print(df.describe())\n",
    "\n",
    "# 4. Summary statistics (categorical columns)\n",
    "print(\"\\nSummary statistics (categorical):\")\n",
    "print(df.describe(include=['object', 'category']))"
   ]
  },
  {
   "cell_type": "code",
   "execution_count": null,
   "id": "490401c2",
   "metadata": {},
   "outputs": [],
   "source": [
    "print(\"unique company names\" )\n",
    "print(df['stock'].nunique())\n",
    "\n",
    "print(\"Unique company tickers:\")\n",
    "print(df['stock'].unique())\n"
   ]
  },
  {
   "cell_type": "code",
   "execution_count": null,
   "id": "43a7c70b",
   "metadata": {},
   "outputs": [],
   "source": [
    "# Replace 'AAPL' with the ticker you're interested in\n",
    "stock_name = 'TSLA'\n",
    "df_stock = df[df['stock'] == stock_name]\n",
    "\n",
    "# Display the first few rows\n",
    "print(df_stock.head())\n",
    "print(f\"Number of articles for {stock_name}: {len(df_stock)}\")\n"
   ]
  },
  {
   "cell_type": "code",
   "execution_count": null,
   "id": "0fa84d75",
   "metadata": {},
   "outputs": [],
   "source": [
    "# Define function to calculate polarity\n",
    "def calculate_polarity(text):\n",
    "    return TextBlob(text).sentiment.polarity\n",
    "\n",
    "# Apply to headline column\n",
    "df['Sentiment'] = df['headline'].apply(calculate_polarity)\n",
    "df.head()"
   ]
  },
  {
   "cell_type": "code",
   "execution_count": null,
   "id": "f0a7fc11",
   "metadata": {},
   "outputs": [],
   "source": [
    "# Display descriptive statistics for the 'headline' column\n",
    "print(\"Descriptive statistics for 'headline' column:\")\n",
    "print(df['headline'].describe())\n",
    "\n",
    "# Check for missing values in the 'headline' column\n",
    "print(\"\\nMissing values in 'headline' column:\")\n",
    "print(df['headline'].isnull().sum())\n",
    "\n",
    "# Get the number of unique headlines\n",
    "print(\"\\nNumber of unique headlines:\")\n",
    "print(df['headline'].nunique())\n",
    "\n",
    "# Display the most frequent headlines\n",
    "print(\"\\nMost frequent headlines:\")\n",
    "print(df['headline'].value_counts().head())\n",
    "\n"
   ]
  },
  {
   "cell_type": "code",
   "execution_count": null,
   "id": "3c84ed6c",
   "metadata": {},
   "outputs": [],
   "source": [
    "# You can further analyze the distribution of sentiment scores calculated earlier\n",
    "print(\"\\nSentiment distribution:\")\n",
    "print(df['Sentiment'].describe())\n",
    "\n",
    "# Plot the distribution of sentiment scores\n",
    "plt.figure(figsize=(8, 4))\n",
    "sns.histplot(df['Sentiment'], bins=20, kde=True)\n",
    "plt.title('Distribution of Sentiment Scores for Headlines')\n",
    "plt.xlabel('Sentiment Polarity')\n",
    "plt.ylabel('Frequency')\n",
    "plt.gca().spines[['top', 'right']].set_visible(False)\n",
    "plt.show()\n",
    "\n",
    "# Analyze the sentiment of the most positive and negative headlines\n",
    "most_positive_headlines = df.nlargest(5, 'Sentiment')\n",
    "print(\"\\nMost Positive Headlines:\")\n",
    "print(most_positive_headlines[['headline', 'Sentiment']])\n",
    "\n",
    "most_negative_headlines = df.nsmallest(5, 'Sentiment')\n",
    "print(\"\\nMost Negative Headlines:\")\n",
    "print(most_negative_headlines[['headline', 'Sentiment']])"
   ]
  },
  {
   "cell_type": "markdown",
   "id": "6914c8cd",
   "metadata": {},
   "source": [
    "Text Analysis(Topic Modeling)"
   ]
  },
  {
   "cell_type": "code",
   "execution_count": 7,
   "id": "fa11f3cf",
   "metadata": {},
   "outputs": [
    {
     "name": "stderr",
     "output_type": "stream",
     "text": [
      "[nltk_data] Downloading package stopwords to\n",
      "[nltk_data]     C:\\Users\\mijuu\\AppData\\Roaming\\nltk_data...\n",
      "[nltk_data]   Package stopwords is already up-to-date!\n"
     ]
    }
   ],
   "source": [
    "nltk.download('stopwords')\n",
    "from nltk.corpus import stopwords"
   ]
  },
  {
   "cell_type": "code",
   "execution_count": null,
   "id": "cfe72388",
   "metadata": {},
   "outputs": [],
   "source": [
    "headlines = df['headline'].dropna().astype(str).tolist()\n",
    "# Preprocessing function\n",
    "def preprocess(texts):\n",
    "    stop_words = set(stopwords.words('english'))\n",
    "    processed = []\n",
    "    for line in texts:\n",
    "        line = line.lower()\n",
    "        line = line.translate(str.maketrans('', '', string.punctuation))\n",
    "        words = [w for w in line.split() if w not in stop_words and w.isalpha()]\n",
    "        processed.append(' '.join(words))\n",
    "    return processed\n",
    "\n",
    "cleaned_headlines = preprocess(headlines)\n",
    "\n",
    "# Vectorize\n",
    "vectorizer = CountVectorizer(max_df=0.9, min_df=5, stop_words='english')\n",
    "X = vectorizer.fit_transform(cleaned_headlines)\n",
    "\n",
    "# LDA model\n",
    "lda = LatentDirichletAllocation(n_components=5, random_state=42)\n",
    "lda.fit(X)\n",
    "\n",
    "# Show topics\n",
    "def display_topics(model, feature_names, no_top_words=10):\n",
    "    for idx, topic in enumerate(model.components_):\n",
    "        print(f\"\\nTopic #{idx+1}:\")\n",
    "        print(\", \".join([feature_names[i] for i in topic.argsort()[:-no_top_words - 1:-1]]))\n",
    "\n",
    "display_topics(lda, vectorizer.get_feature_names_out())"
   ]
  },
  {
   "cell_type": "markdown",
   "id": "81632168",
   "metadata": {},
   "source": [
    "Time Series Analysis:\n"
   ]
  },
  {
   "cell_type": "code",
   "execution_count": 8,
   "id": "3a5f5327",
   "metadata": {},
   "outputs": [
    {
     "data": {
      "image/png": "[encoded data removed]",
      "text/plain": [
       "<Figure size 1400x600 with 1 Axes>"
      ]
     },
     "metadata": {},
     "output_type": "display_data"
    }
   ],
   "source": [
    "# Convert to datetime safely, force mixed format\n",
    "df['date'] = pd.to_datetime(df['date'], format='mixed', errors='coerce')\n",
    "\n",
    "# Drop invalid datetimes \n",
    "df = df.dropna(subset=['date'])\n",
    "\n",
    "#  Confirm dtype and remove timezone\n",
    "if pd.api.types.is_datetime64_any_dtype(df['date']):\n",
    "    # If timezone-aware, make it naive\n",
    "    if df['date'].dt.tz is not None:\n",
    "        df['date'] = df['date'].dt.tz_localize(None)\n",
    "else:\n",
    "    raise TypeError(\"The 'date' column is not datetime-like.\")\n",
    "\n",
    "# Set index and resample\n",
    "df.set_index('date', inplace=True)\n",
    "\n",
    "# Resample by day\n",
    "daily_counts = df.resample('D').size()\n",
    "\n",
    "# Plot\n",
    "import matplotlib.pyplot as plt\n",
    "\n",
    "plt.figure(figsize=(14, 6))\n",
    "plt.plot(daily_counts, color='blue', linewidth=1.5)\n",
    "plt.title(\"Article Publication Frequency Over Time\", fontsize=16)\n",
    "plt.xlabel(\"Date\")\n",
    "plt.ylabel(\"Number of Articles\")\n",
    "plt.grid(True)\n",
    "plt.tight_layout()\n",
    "\n",
    "\n",
    "plt.savefig(\"../images/sentiment/article_frequency_over_time.png\", dpi=300)\n",
    "\n",
    "plt.show()\n"
   ]
  }
 ],
 "metadata": {
  "kernelspec": {
   "display_name": ".venv",
   "language": "python",
   "name": "python3"
  },
  "language_info": {
   "codemirror_mode": {
    "name": "ipython",
    "version": 3
   },
   "file_extension": ".py",
   "mimetype": "text/x-python",
   "name": "python",
   "nbconvert_exporter": "python",
   "pygments_lexer": "ipython3",
   "version": "3.12.3"
  }
 },
 "nbformat": 4,
 "nbformat_minor": 5
}
