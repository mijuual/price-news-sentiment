{
 "cells": [
  {
   "cell_type": "code",
   "execution_count": null,
   "id": "494d8cbc",
   "metadata": {},
   "outputs": [],
   "source": [
    "import pandas as pd\n",
    "import matplotlib.pyplot as plt\n",
    "import seaborn as sns\n",
    "\n",
    "import sys\n",
    "sys.path.append('../scripts') # adjust the path based on actual location\n",
    "from quantitative_analysis import StockAnalyzer\n"
   ]
  },
  {
   "cell_type": "code",
   "execution_count": null,
   "id": "bea1ff70",
   "metadata": {},
   "outputs": [],
   "source": [
    "# Load your CSV\n",
    "\n",
    "meta_price_data = pd.read_csv('../src/data/yfinance_data/META_historical_data.csv')\n",
    "# Create analyzer object\n",
    "\n",
    "meta_analyzer = StockAnalyzer(meta_price_data )\n",
    "# Prepare data\n",
    "meta_analyzer.prepare_data()\n"
   ]
  },
  {
   "cell_type": "code",
   "execution_count": null,
   "id": "87c978e8",
   "metadata": {},
   "outputs": [],
   "source": [
    "meta_analyzer.add_technical_indicators()"
   ]
  },
  {
   "cell_type": "code",
   "execution_count": null,
   "id": "edd270e2",
   "metadata": {},
   "outputs": [],
   "source": [
    "meta_analyzer.plot_indicators()"
   ]
  },
  {
   "cell_type": "code",
   "execution_count": null,
   "id": "71fbca07",
   "metadata": {},
   "outputs": [],
   "source": [
    "meta_analyzer.plot_candlestick(\n",
    "\n",
    ")"
   ]
  },
  {
   "cell_type": "code",
   "execution_count": null,
   "id": "600a224a",
   "metadata": {},
   "outputs": [],
   "source": [
    "meta_analyzer.plot_volume()"
   ]
  },
  {
   "cell_type": "markdown",
   "id": "224dceac",
   "metadata": {},
   "source": [
    "Correlation analysis "
   ]
  },
  {
   "cell_type": "code",
   "execution_count": null,
   "id": "002309e7",
   "metadata": {},
   "outputs": [],
   "source": [
    "# Load sentiment CSV\n",
    "sentiment_df = pd.read_csv(\"../src/sentiment_with_polarity.csv\")\n",
    "\n",
    "# Filter for a specific ticker\n",
    "sentiment_df = sentiment_df[sentiment_df['stock'] == 'FB']\n",
    "\n",
    "print(f\"✅ Sentiment data cleaned. Rows remaining: {len(sentiment_df)}\")\n"
   ]
  },
  {
   "cell_type": "code",
   "execution_count": null,
   "id": "84a845cd",
   "metadata": {},
   "outputs": [],
   "source": [
    "# Get stock price DataFrame from your StockAnalyzer\n",
    "stock_df = meta_analyzer.df.copy()\n",
    "\n",
    "# If 'Date' is a column\n",
    "if 'Date' in stock_df.columns:\n",
    "    print(\"📌 'Date' column dtype:\", stock_df['Date'].dtype)\n",
    "else:\n",
    "    print(\"🕓 'Date' is not a column. Checking index...\")\n",
    "    print(\"📌 Index dtype:\", stock_df.index.dtype)\n",
    "\n",
    "# Check if all datetime values have time set to midnight\n",
    "all_normalized = (stock_df.index.time == pd.to_datetime(\"00:00:00\").time())\n",
    "\n",
    "if all_normalized.all():\n",
    "    print(\"✅ All dates are normalized (00:00:00).\")\n",
    "else:\n",
    "    print(\"⚠️ Some dates are not normalized. Example non-normalized rows:\")\n",
    "    print(stock_df[~all_normalized].head())\n",
    "\n"
   ]
  },
  {
   "cell_type": "code",
   "execution_count": null,
   "id": "ca91f974",
   "metadata": {},
   "outputs": [],
   "source": [
    "# 1. Filter sentiment\n",
    "sentiment_df = sentiment_df[sentiment_df['stock'] == 'FB']\n",
    "daily_sentiment = sentiment_df.groupby('date')['polarity'].mean().to_frame()\n",
    "\n",
    "# 2. Load and filter stock data\n",
    "stock_df = meta_analyzer.df.copy()\n",
    "stock_df['return'] = stock_df['Close'].pct_change() * 100\n",
    "daily_returns = stock_df[['return']]\n",
    "\n",
    "# 3. Normalize both indexes\n",
    "daily_sentiment.index = pd.to_datetime(daily_sentiment.index).normalize()\n",
    "daily_returns.index = pd.to_datetime(daily_returns.index).normalize()\n",
    "\n",
    "# 4. Filter stock data to match sentiment range\n",
    "start_date = daily_sentiment.index.min()\n",
    "end_date = daily_sentiment.index.max()\n",
    "daily_returns = daily_returns.loc[start_date:end_date]\n",
    "\n",
    "# 5. Merge and correlate\n",
    "merged_df = pd.merge(daily_sentiment, daily_returns, left_index=True, right_index=True, how='inner')\n",
    "correlation = merged_df['polarity'].corr(merged_df['return'])\n",
    "\n",
    "# 6. Output\n",
    "print(\"📅 Sentiment dates:\", start_date, \"→\", end_date)\n",
    "print(f\"🧮 Merged rows: {len(merged_df)}\")\n",
    "print(\"\\n📄 Sample merged data:\\n\", merged_df.head())\n",
    "print(f\"\\n📊 Correlation between AAPL sentiment and return: {correlation:.4f}\")\n"
   ]
  },
  {
   "cell_type": "code",
   "execution_count": null,
   "id": "dadfdcce",
   "metadata": {},
   "outputs": [],
   "source": [
    "# Compute correlation matrix\n",
    "corr_matrix = merged_df.corr()\n",
    "\n",
    "# Plot heatmap\n",
    "plt.figure(figsize=(6, 4))\n",
    "sns.heatmap(corr_matrix, annot=True, cmap=\"coolwarm\", fmt=\".2f\")\n",
    "plt.title(\"Correlation Heatmap: Sentiment vs Return\")\n",
    "plt.tight_layout()\n",
    "plt.show()"
   ]
  },
  {
   "cell_type": "code",
   "execution_count": null,
   "id": "2f65712d",
   "metadata": {},
   "outputs": [],
   "source": [
    "plt.figure(figsize=(10, 6))\n",
    "plt.scatter(merged_df['polarity'], merged_df['return'], alpha=0.7)\n",
    "plt.title('Sentiment Polarity vs Stock Return (AAPL)', fontsize=14)\n",
    "plt.xlabel('Sentiment Polarity')\n",
    "plt.ylabel('Daily Stock Return (%)')\n",
    "plt.grid(True)\n",
    "plt.tight_layout()\n",
    "plt.show()"
   ]
  }
 ],
 "metadata": {
  "kernelspec": {
   "display_name": ".venv",
   "language": "python",
   "name": "python3"
  },
  "language_info": {
   "codemirror_mode": {
    "name": "ipython",
    "version": 3
   },
   "file_extension": ".py",
   "mimetype": "text/x-python",
   "name": "python",
   "nbconvert_exporter": "python",
   "pygments_lexer": "ipython3",
   "version": "3.12.3"
  }
 },
 "nbformat": 4,
 "nbformat_minor": 5
}
