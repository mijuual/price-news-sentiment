{
 "cells": [
  {
   "cell_type": "code",
   "execution_count": 1,
   "id": "1a00181f",
   "metadata": {},
   "outputs": [
    {
     "name": "stderr",
     "output_type": "stream",
     "text": [
      "[nltk_data] Downloading package stopwords to\n",
      "[nltk_data]     C:\\Users\\mijuu\\AppData\\Roaming\\nltk_data...\n",
      "[nltk_data]   Package stopwords is already up-to-date!\n"
     ]
    }
   ],
   "source": [
    "import pandas as pd\n",
    "import sys\n",
    "sys.path.append('../scripts') # adjust the path based on actual location\n",
    "from sentimental_analysis import NewsAnalyzer"
   ]
  },
  {
   "cell_type": "code",
   "execution_count": 2,
   "id": "becf7331",
   "metadata": {},
   "outputs": [
    {
     "name": "stdout",
     "output_type": "stream",
     "text": [
      "🔍 Dataset Shape: (1407328, 6)\n",
      "\n",
      " First 5 Rows:\n",
      "    Unnamed: 0                                           headline  \\\n",
      "0           0            Stocks That Hit 52-Week Highs On Friday   \n",
      "1           1         Stocks That Hit 52-Week Highs On Wednesday   \n",
      "2           2                      71 Biggest Movers From Friday   \n",
      "3           3       46 Stocks Moving In Friday's Mid-Day Session   \n",
      "4           4  B of A Securities Maintains Neutral on Agilent...   \n",
      "\n",
      "                                                 url          publisher  \\\n",
      "0  https://www.benzinga.com/news/20/06/16190091/s...  Benzinga Insights   \n",
      "1  https://www.benzinga.com/news/20/06/16170189/s...  Benzinga Insights   \n",
      "2  https://www.benzinga.com/news/20/05/16103463/7...         Lisa Levin   \n",
      "3  https://www.benzinga.com/news/20/05/16095921/4...         Lisa Levin   \n",
      "4  https://www.benzinga.com/news/20/05/16095304/b...         Vick Meyer   \n",
      "\n",
      "                        date stock  \n",
      "0  2020-06-05 10:30:54-04:00     A  \n",
      "1  2020-06-03 10:45:20-04:00     A  \n",
      "2  2020-05-26 04:30:07-04:00     A  \n",
      "3  2020-05-22 12:45:06-04:00     A  \n",
      "4  2020-05-22 11:38:59-04:00     A  \n",
      "\n",
      " Last 5 Rows:\n",
      "          Unnamed: 0                                           headline  \\\n",
      "1407323     1413844             Top Narrow Based Indexes For August 29   \n",
      "1407324     1413845  Recap: Wednesday's Top Percentage Gainers and ...   \n",
      "1407325     1413846  UPDATE: Oppenheimer Color on China Zenix Auto ...   \n",
      "1407326     1413847  Oppenheimer Initiates China Zenix At Outperfor...   \n",
      "1407327     1413848  China Zenix Auto International Opens For Tradi...   \n",
      "\n",
      "                                                       url       publisher  \\\n",
      "1407323  https://www.benzinga.com/news/11/08/1888782/to...   Monica Gerson   \n",
      "1407324  https://www.benzinga.com/news/earnings/11/06/1...    Benjamin Lee   \n",
      "1407325  https://www.benzinga.com/analyst-ratings/analy...  BenzingaStaffL   \n",
      "1407326  https://www.benzinga.com/analyst-ratings/price...       Joe Young   \n",
      "1407327  https://www.benzinga.com/news/ipos/11/05/10789...   Allie Wickman   \n",
      "\n",
      "                        date stock  \n",
      "1407323  2011-08-29 00:00:00    ZX  \n",
      "1407324  2011-06-22 00:00:00    ZX  \n",
      "1407325  2011-06-21 00:00:00    ZX  \n",
      "1407326  2011-06-21 00:00:00    ZX  \n",
      "1407327  2011-05-12 00:00:00    ZX  \n",
      "\n",
      "ℹ️ Dataset Info:\n",
      "<class 'pandas.core.frame.DataFrame'>\n",
      "RangeIndex: 1407328 entries, 0 to 1407327\n",
      "Data columns (total 6 columns):\n",
      " #   Column      Non-Null Count    Dtype \n",
      "---  ------      --------------    ----- \n",
      " 0   Unnamed: 0  1407328 non-null  int64 \n",
      " 1   headline    1407328 non-null  object\n",
      " 2   url         1407328 non-null  object\n",
      " 3   publisher   1407328 non-null  object\n",
      " 4   date        1407328 non-null  object\n",
      " 5   stock       1407328 non-null  object\n",
      "dtypes: int64(1), object(5)\n",
      "memory usage: 64.4+ MB\n",
      "\n",
      "🧹 Removed 0 rows with missing 'headline' or 'date'.\n"
     ]
    }
   ],
   "source": [
    "news_df = pd.read_csv(\"../src/data/raw_analyst_ratings.csv\")\n",
    "analyzer = NewsAnalyzer(news_df)\n",
    "analyzer.overview()\n"
   ]
  },
  {
   "cell_type": "code",
   "execution_count": 4,
   "id": "f0e26899",
   "metadata": {},
   "outputs": [
    {
     "name": "stdout",
     "output_type": "stream",
     "text": [
      "🔍 Raw row count: 1407328\n",
      "🔧 Trying to salvage 1351341 unparsed rows with row-by-row parsing...\n"
     ]
    },
    {
     "name": "stderr",
     "output_type": "stream",
     "text": [
      "c:\\Users\\mijuu\\Documents\\price-news-sentiment\\notebooks\\../scripts\\sentimental_analysis.py:100: SettingWithCopyWarning: modifications to a method of a datetimelike object are not supported and are discarded. Change values on the original.\n",
      "  parsed_main.loc[still_na] = fallback_parsed\n"
     ]
    },
    {
     "name": "stdout",
     "output_type": "stream",
     "text": [
      "✅ Parsed 1407328 rows (dropped 0 invalid).\n",
      "📌 dtype of 'date' column after parsing: datetime64[ns]\n"
     ]
    }
   ],
   "source": [
    "clean_df = analyzer.parse_and_clean_dates()\n"
   ]
  },
  {
   "cell_type": "code",
   "execution_count": null,
   "id": "c44340f8",
   "metadata": {},
   "outputs": [],
   "source": [
    "print(clean_df.columns)\n",
    "print(clean_df['date'].dtype)"
   ]
  },
  {
   "cell_type": "code",
   "execution_count": 5,
   "id": "8ab75d63",
   "metadata": {},
   "outputs": [],
   "source": [
    "analyzer.df = clean_df "
   ]
  },
  {
   "cell_type": "code",
   "execution_count": null,
   "id": "ffca6ccf",
   "metadata": {},
   "outputs": [],
   "source": [
    "analyzer.describe_content()"
   ]
  },
  {
   "cell_type": "code",
   "execution_count": null,
   "id": "a7bcf927",
   "metadata": {},
   "outputs": [],
   "source": [
    "analyzer.extract_topics()"
   ]
  },
  {
   "cell_type": "code",
   "execution_count": null,
   "id": "6b2d9614",
   "metadata": {},
   "outputs": [],
   "source": [
    "analyzer.plot_publication_frequency()"
   ]
  },
  {
   "cell_type": "code",
   "execution_count": 6,
   "id": "e167c6d6",
   "metadata": {},
   "outputs": [
    {
     "name": "stdout",
     "output_type": "stream",
     "text": [
      "🧪 Sentiment analysis completed for 7 stock(s), 7331 headlines.\n"
     ]
    }
   ],
   "source": [
    "analyzer.analyze_sentiment(tickers=[\"AAPL\", \"AMZN\",\"GOOG\",\"FB\",\"MSF\",\"NVDA\",\"TSLA\"])"
   ]
  },
  {
   "cell_type": "code",
   "execution_count": 8,
   "id": "827f876c",
   "metadata": {},
   "outputs": [
    {
     "name": "stdout",
     "output_type": "stream",
     "text": [
      "🧪 Sentiment analysis completed for 7 stock(s), 7331 headlines.\n",
      "datetime64[ns]\n"
     ]
    }
   ],
   "source": [
    "sentiment_df = analyzer.analyze_sentiment(tickers=[\"AAPL\", \"AMZN\",\"GOOG\",\"FB\",\"MSF\",\"NVDA\",\"TSLA\"], inplace=False)\n",
    "\n",
    "# Now print results from the filtered DataFrame\n",
    "print(sentiment_df['date'].dtype)\n",
    "\n"
   ]
  },
  {
   "cell_type": "code",
   "execution_count": 10,
   "id": "f735d879",
   "metadata": {},
   "outputs": [
    {
     "name": "stdout",
     "output_type": "stream",
     "text": [
      "      Unnamed: 0                                           headline  \\\n",
      "6680        7120  Tech Stocks And FAANGS Strong Again To Start D...   \n",
      "6681        7121      10 Biggest Price Target Changes For Wednesday   \n",
      "6682        7122  Benzinga Pro's Top 5 Stocks To Watch For Wed.,...   \n",
      "6683        7123  Deutsche Bank Maintains Buy on Apple, Raises P...   \n",
      "6684        7124  Apple To Let Users Trade In Their Mac Computer...   \n",
      "6685        7125  Big Tech Reaches New Record Heights At The Sto...   \n",
      "6686        7126          Why Apple's Stock Is Trading Higher Today   \n",
      "6687        7127  Apple Could Announce In-House Chips For Macs A...   \n",
      "6688        7128  Apple shares are trading higher despite market...   \n",
      "6689        7129  Sonos Shares Spike To Session High, Now Up 9.5...   \n",
      "\n",
      "                                                    url          publisher  \\\n",
      "6680  https://www.benzinga.com/government/20/06/1622...         JJ Kinahan   \n",
      "6681  https://www.benzinga.com/analyst-ratings/price...         Lisa Levin   \n",
      "6682  https://www.benzinga.com/short-sellers/20/06/1...  Benzinga Newsdesk   \n",
      "6683  https://www.benzinga.com/news/20/06/16219873/d...  Benzinga Newsdesk   \n",
      "6684  https://www.benzinga.com/news/20/06/16218697/a...      Neer Varshney   \n",
      "6685  https://www.benzinga.com/news/20/06/16218615/b...      Neer Varshney   \n",
      "6686  https://www.benzinga.com/news/20/06/16215446/w...     Tanzeel Akhtar   \n",
      "6687  https://www.benzinga.com/news/20/06/16214115/a...   Shanthi Rexaline   \n",
      "6688  https://www.benzinga.com/wiim/20/06/16214320/a...  Benzinga Newsdesk   \n",
      "6689  https://www.benzinga.com/m-a/20/06/16213381/so...  Benzinga Newsdesk   \n",
      "\n",
      "           date stock  polarity  subjectivity  \n",
      "6680 2020-06-10  AAPL  0.433333      0.733333  \n",
      "6681 2020-06-10  AAPL  0.000000      0.000000  \n",
      "6682 2020-06-10  AAPL  0.500000      0.500000  \n",
      "6683 2020-06-10  AAPL  0.000000      0.000000  \n",
      "6684 2020-06-10  AAPL  0.000000      0.000000  \n",
      "6685 2020-06-10  AAPL  0.068182      0.277273  \n",
      "6686 2020-06-09  AAPL  0.250000      0.500000  \n",
      "6687 2020-06-09  AAPL  0.000000      0.000000  \n",
      "6688 2020-06-09  AAPL  0.050000      0.433333  \n",
      "6689 2020-06-09  AAPL  0.053333      0.313333  \n"
     ]
    }
   ],
   "source": [
    "print(sentiment_df.head(10))\n",
    "\n",
    "sentiment_df.to_csv(\"../src/sentiment_with_polarity.csv\", index=True)"
   ]
  }
 ],
 "metadata": {
  "kernelspec": {
   "display_name": ".venv",
   "language": "python",
   "name": "python3"
  },
  "language_info": {
   "codemirror_mode": {
    "name": "ipython",
    "version": 3
   },
   "file_extension": ".py",
   "mimetype": "text/x-python",
   "name": "python",
   "nbconvert_exporter": "python",
   "pygments_lexer": "ipython3",
   "version": "3.12.3"
  }
 },
 "nbformat": 4,
 "nbformat_minor": 5
}
